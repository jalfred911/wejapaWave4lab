{
 "cells": [
  {
   "cell_type": "code",
   "execution_count": null,
   "metadata": {},
   "outputs": [],
   "source": [
    "# Write a script that does the following:\n",
    "\n",
    "# Ask for user input 3 times. Once for a list of names, once for a list of missing assignment counts, and once for a\n",
    "# list of grades. Use this input to create lists for names, assignments, and grades. Use a loop to print the message\n",
    "# for each student with the correct values. The potential grade is simply the current grade added to two times the\n",
    "# number of missing assignments. Template code for your script:\n",
    "\n",
    "names = input(\"Enter names 5 names separated by comma: \").split(\",\")  # get and process input for a list of names\n",
    "assignments = input(\"Enter 5 missing assignment separated by comma: \").split(\n",
    "    \",\")  # get and process input for a list of the number of assignments\n",
    "grades = input(\"Enter names 5 names separated by comma: \").split(\",\")  # get and process input for a list of grades\n",
    "\n",
    "# message string to be used for each student\n",
    "# HINT: use .format() with this string in your for loop\n",
    "for n, i in enumerate(names):\n",
    "    message = \"Hi {},\\n\\nThis is a reminder that you have {} assignments left to \\\n",
    "submit before you can graduate. You're current grade is {} and can increase \\\n",
    "to {} if you submit all assignments before the due date.\\n\\n\"\n",
    "    print(message.format(i, assignments[n], grades[n], int((assignments[n])) + (int(grades[n])*2) ))\n",
    "\n",
    "# write a for loop that iterates through each set of names, assignments, and grades to print each student's message"
   ]
  }
 ],
 "metadata": {
  "kernelspec": {
   "display_name": "Python 3",
   "language": "python",
   "name": "python3"
  },
  "language_info": {
   "codemirror_mode": {
    "name": "ipython",
    "version": 3
   },
   "file_extension": ".py",
   "mimetype": "text/x-python",
   "name": "python",
   "nbconvert_exporter": "python",
   "pygments_lexer": "ipython3",
   "version": "3.7.3"
  }
 },
 "nbformat": 4,
 "nbformat_minor": 2
}
