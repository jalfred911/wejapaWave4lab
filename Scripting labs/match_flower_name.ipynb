{
 "cells": [
  {
   "cell_type": "code",
   "execution_count": 1,
   "metadata": {},
   "outputs": [
    {
     "name": "stdout",
     "output_type": "stream",
     "text": [
      "Enter your First and Last name only: joseph alfred\n",
      "Unique flower name with the first letter: Jamesia americana\n"
     ]
    }
   ],
   "source": [
    "# For the following practice question you will need to write code in Python in the workspace below.\n",
    "# This will allow you to practice the concepts discussed in the Scripting lesson, such as reading and writing files.\n",
    "# You will see some older concepts too, but again, we have them there to review and reinforce your understanding of those concepts.\n",
    "\n",
    "# Question: Create a function that opens the flowers.txt, reads every line in it, and saves it as a dictionary.\n",
    "# The main (separate) function should take user input (user's first name and last name) and parse the user input to\n",
    "# identify the first letter of the first name. It should then use it to print the flower name with the same first\n",
    "# letter (from dictionary created in the first function).\n",
    "\n",
    "# Sample Output:\n",
    "\n",
    "# >>> Enter your First [space] Last name only: Bill Newman\n",
    "# >>> Unique flower name with the first letter: Bellflower\n",
    "\n",
    "# Write your code here\n",
    "\n",
    "# HINT: create a dictionary from flowers.txt\n",
    "\n",
    "# HINT: create a function\n",
    "\n",
    "\n",
    "def get_flowers():\n",
    "    flowers = dict()\n",
    "    with open('flowers.txt', 'r') as file:\n",
    "        flowers_file = file.readlines()\n",
    "        for line in flowers_file:\n",
    "            letter, flower = line.strip().split(':')\n",
    "            flowers[letter] = flower\n",
    "    return flowers\n",
    "\n",
    "\n",
    "def main():\n",
    "    flowers = get_flowers()\n",
    "    username = input('Enter your First and Last name only: ')\n",
    "    first_letter = username[0].upper()\n",
    "    print('Unique flower name with the first letter:{}'.format(flowers[first_letter]))\n",
    "\n",
    "\n",
    "main()"
   ]
  },
  {
   "cell_type": "code",
   "execution_count": null,
   "metadata": {},
   "outputs": [],
   "source": []
  }
 ],
 "metadata": {
  "kernelspec": {
   "display_name": "Python 3",
   "language": "python",
   "name": "python3"
  },
  "language_info": {
   "codemirror_mode": {
    "name": "ipython",
    "version": 3
   },
   "file_extension": ".py",
   "mimetype": "text/x-python",
   "name": "python",
   "nbconvert_exporter": "python",
   "pygments_lexer": "ipython3",
   "version": "3.7.3"
  }
 },
 "nbformat": 4,
 "nbformat_minor": 2
}
